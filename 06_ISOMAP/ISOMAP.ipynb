{
 "cells": [
  {
   "cell_type": "markdown",
   "metadata": {},
   "source": [
    "# 等距映射(Isometric Mapping, ISOMAP)\n",
    "\n",
    "## 符号定义\n",
    "\n",
    "## 概念\n",
    "\n",
    "## 推导\n",
    "\n",
    "## 算法流程"
   ]
  }
 ],
 "metadata": {
  "language_info": {
   "name": "python"
  },
  "orig_nbformat": 4
 },
 "nbformat": 4,
 "nbformat_minor": 2
}
